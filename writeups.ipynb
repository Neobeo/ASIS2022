{
 "cells": [
  {
   "cell_type": "markdown",
   "id": "a8062869",
   "metadata": {},
   "source": [
    "# ASIS CTF Quals 2022\n",
    "\n",
    "This was a fun CTF. I solved all 6 crypto challenges and three other random ones. I decided to write up on all of them, because why not.\n",
    "\n",
    "The six crypto challenges are:\n",
    "* Binned (126 solves / 45 points)\n",
    "* Chaffymasking (66 solves / 73 points)\n",
    "* Mariana (59 solves / 80 points)\n",
    "* Mindseat (33 solves / 128 points)\n",
    "* Desired curve (19 solves / 194 points)\n",
    "* Disinvolute (7 solves / 334 points)\n",
    "\n",
    "The other three challenges I solved were:\n",
    "* Prepsi (PPC / 90 solves / 58 points)\n",
    "* Wormrep (Misc / 80 solves / 63 points)\n",
    "* Comopti (Misc / 38 solves / 114 points)\n",
    "\n",
    "We first begin by importing lots of potentially useful packages."
   ]
  },
  {
   "cell_type": "code",
   "execution_count": 1,
   "id": "24782876",
   "metadata": {},
   "outputs": [],
   "source": [
    "from pwn import *\n",
    "from Crypto.Util.number import *\n",
    "from sage.all import *\n",
    "from sage.rings.factorint import factor_trial_division\n",
    "from tqdm import trange\n",
    "from ast import literal_eval\n",
    "import os, re, string"
   ]
  },
  {
   "cell_type": "markdown",
   "id": "7a81a13f",
   "metadata": {},
   "source": [
    "# Binned (126 solves)\n",
    "\n",
    "This was a pretty standard `mod n^2` challenge, i.e. $(n+1)^k = kn+1 \\pmod{n^2}$."
   ]
  },
  {
   "cell_type": "code",
   "execution_count": 2,
   "id": "426d85bb",
   "metadata": {},
   "outputs": [
    {
     "name": "stdout",
     "output_type": "stream",
     "text": [
      "b'ASIS{8!N0miaL_3XpAn5iOn_Us4G3_1N_cRyp7o_9rApHy!}'\n"
     ]
    }
   ],
   "source": [
    "pubkey = 125004899806380680278294077957993138206121343727674199724251084023100054797391533591150992663742497532376954423241741439218367086541339504325939051995057848301514908377941815605487168789148131591458301036686411659334843972203243490288676763861925647147178902977362125434420265824374952540259396010995154324589\n",
    "enc = 789849126571263315208956108629196540107771075292285804732934458641661099043398300667318883764744131397353851782194467024270666326116745519739176492710750437625345677766980300328542459318943175684941281413218985938348407537978884988013947538034827562329111515306723274989323212194585378159386585826998838542734955059450048745917640814983343040930383529332576453845724747105810109832978045135562492851617884175410194781236450629682032219153517122695586503298477875749138129517477339813480115293124316913331705913455692462482942654717828006590051944205639923326375814299624264826939725890226430388059890231323791398412019416647826367964048142887158552454494856771139750458462334678907791079639005383932256589768726730285409763583606927779418528562990619985840033479201147509241313757191997545174262930707521451438204766627975109619779824255444258160\n",
    "print(long_to_bytes(enc % pubkey**2 // pubkey))"
   ]
  },
  {
   "cell_type": "markdown",
   "id": "34ad60b2",
   "metadata": {},
   "source": [
    "# Chaffymasking (66 solves / 73 points)\n",
    "\n",
    "I didn't fully figure out what this challenge did, but basically you give it a 128-character salt and it XORs something with the flag. Of course you XOR this masked flag to get the flag back. My first attempt of `'a'*128` failed because it specifically wanted the two halves to be different, so of course I changed the last character to a `b`."
   ]
  },
  {
   "cell_type": "code",
   "execution_count": 3,
   "id": "2e6556fa",
   "metadata": {},
   "outputs": [
    {
     "name": "stdout",
     "output_type": "stream",
     "text": [
      "||||||||||||||||||||||||||||||||||||||||||||||||||||||||||||||||||||||||\n",
      "|  Welcome to chaffymask combat, we implemented a masking method to    |\n",
      "|  hide our secret. Masking is done by your 1024 bit input salt. Also  |\n",
      "|  I noticed that there is a flaw in my method. Can you abuse it and   |\n",
      "|  get the flag? In each step you should send salt and get the mask.   |\n",
      "||||||||||||||||||||||||||||||||||||||||||||||||||||||||||||||||||||||||\n",
      "| Give me your salt: \n",
      "| masked_flag = b'415349537b4c6174746963655f62617365645f686173685f636f6c6c6973696f6e5f69745f7761735f736f6f6f6f6f6f6f6f6f6f6f6f6f6f6f5f65617359217d'\n",
      "| Give me your salt: \n",
      "| masked_flag = b'415349537b4c6174746963655f62617365645f686173685f636f6c6c6973696f6e5f69745f7761735f736f6f6f6f6f6f6f6f6f6f6f6f6f6f6f5f65617359217d'\n",
      "| Give me your salt: \n",
      "| masked_flag = b'415349537b4c6174746963655f62617365645f686173685f636f6c6c6973696f6e5f69745f7761735f736f6f6f6f6f6f6f6f6f6f6f6f6f6f6f5f65617359217d'\n",
      "| Give me your salt: \n",
      "| masked_flag = b'415349537b4c6174746963655f62617365645f686173685f636f6c6c6973696f6e5f69745f7761735f736f6f6f6f6f6f6f6f6f6f6f6f6f6f6f5f65617359217d'\n",
      "| Give me your salt: \n",
      "| masked_flag = b'415349537b4c6174746963655f62617365645f686173685f636f6c6c6973696f6e5f69745f7761735f736f6f6f6f6f6f6f6f6f6f6f6f6f6f6f5f65617359217d'\n"
     ]
    }
   ],
   "source": [
    "# nc 65.21.255.31 31377\n",
    "# send a 128-char string consisting of 127*'a'+'b'\n",
    "# get back: masked_flag = b'04f4f49d12840d96e23d0ecebb1e421cee4c0600ac8069cc7f64ae7c5622d15a04a905780561612470317977de7b0854154b7722fdcd5a80b5c25ec8c3ce5551'\n",
    "foo = \"FLAG=''.join(chr(i) for i in bytes.fromhex('04f4f49d12840d96e23d0ecebb1e421cee4c0600ac8069cc7f64ae7c5622d15a04a905780561612470317977de7b0854154b7722fdcd5a80b5c25ec8c3ce5551'))\"\n",
    "script = open('chaffymasking.py').read()\n",
    "script = script.replace('from flag import FLAG', foo)\n",
    "script = script.replace('sys.stdin.buffer.readline()', \"b'aaaaaaaaaaaaaaaaaaaaaaaaaaaaaaaaaaaaaaaaaaaaaaaaaaaaaaaaaaaaaaaaaaaaaaaaaaaaaaaaaaaaaaaaaaaaaaaaaaaaaaaaaaaaaaaaaaaaaaaaaaaaaaab '\")\n",
    "exec(script)"
   ]
  },
  {
   "cell_type": "code",
   "execution_count": 4,
   "id": "da2e142b",
   "metadata": {},
   "outputs": [
    {
     "name": "stdout",
     "output_type": "stream",
     "text": [
      "b'ASIS{Lattice_based_hash_collision_it_was_sooooooooooooooo_easY!}'\n"
     ]
    }
   ],
   "source": [
    "# feed the new masked_flag back into the next line\n",
    "print(bytes.fromhex('415349537b4c6174746963655f62617365645f686173685f636f6c6c6973696f6e5f69745f7761735f736f6f6f6f6f6f6f6f6f6f6f6f6f6f6f5f65617359217d'))"
   ]
  },
  {
   "cell_type": "markdown",
   "id": "2d495c13",
   "metadata": {},
   "source": [
    "# Mariana (59 solves / 80 points)\n",
    "\n",
    "The aim is to find $x$ such that $g^x \\equiv x \\pmod{p}$ for a given $g$ and $p$ (of bit-size increasing with each level). Unfortunately the check was broken so we could just submit `x = 1-p` each time, which makes both sides of the equation congruent to 1 mod p."
   ]
  },
  {
   "cell_type": "code",
   "execution_count": 5,
   "id": "bf1c060d",
   "metadata": {},
   "outputs": [
    {
     "name": "stdout",
     "output_type": "stream",
     "text": [
      "[x] Opening connection to 65.21.255.31 on port 32066\n",
      "[x] Opening connection to 65.21.255.31 on port 32066: Trying 65.21.255.31\n",
      "[+] Opening connection to 65.21.255.31 on port 32066: Done\n"
     ]
    },
    {
     "name": "stderr",
     "output_type": "stream",
     "text": [
      "100%|███████████████████████████████████████████████████████████████████████████████████| 40/40 [00:24<00:00,  1.63it/s]"
     ]
    },
    {
     "name": "stdout",
     "output_type": "stream",
     "text": [
      "[x] Receiving all data\n",
      "[x] Receiving all data: 417B\n"
     ]
    },
    {
     "name": "stderr",
     "output_type": "stream",
     "text": [
      "\n"
     ]
    },
    {
     "name": "stdout",
     "output_type": "stream",
     "text": [
      "[x] Receiving all data: 486B\n",
      "[+] Receiving all data: Done (486B)\n",
      "[*] Closed connection to 65.21.255.31 port 32066\n",
      "b'| g = 9495790558239095895019487197338758073321069218704087668261189071620677664700893660561959632182481240114668318667801442485760017955636644391901301654159080058357573940908639774454835509957159525250909428304532946642435841822949205232463586824146435750929262597484422608341815507965506807881485296485354528980896729586491890667348618488491295306537312404742759865597114564350259785237563\\n| Send the solution x = \\n| Congratz! the flag is: ASIS{fiX3d_pOIn7s_f0r_d!5Cret3_l0g4riThmS!}\\n'\n"
     ]
    }
   ],
   "source": [
    "with remote('65.21.255.31', 32066) as sh:\n",
    "    for _ in trange(40):\n",
    "        sh.recvuntil(b'p = ')\n",
    "        p = int(sh.recvline())\n",
    "        sh.sendline(str(1-p).encode())\n",
    "    print(sh.recvall())"
   ]
  },
  {
   "cell_type": "markdown",
   "id": "a8ec6ef7",
   "metadata": {},
   "source": [
    "# Mindseat (33 solves / 128 points)\n",
    "\n",
    "This was a DLOG challenge that changed mid-competition. We first solve `k=134` by looking counting the number of zeroes at the end of `bin(n-1)`.\n",
    "\n",
    "Now, since $n = (a \\cdot 2^k+1)(b \\cdot 2^k+1)$, we could simply partition the binary digits of $n$ to obtain both the product $ab$ and the sum $a+b$. This gives us the factorisation of $n$.\n",
    "\n",
    "Finally, we want to compute the discrete log. We will focus on $p = (a \\cdot 2^k+1)$, but instead of taking the entire multiplicative group, we just focus on the cyclic subgroup of order $2^k$."
   ]
  },
  {
   "cell_type": "code",
   "execution_count": 6,
   "id": "ab1951eb",
   "metadata": {},
   "outputs": [
    {
     "name": "stdout",
     "output_type": "stream",
     "text": [
      "b'ASIS{N3w_CTF_nEW_Joye_Libert_CrYpt0_5}'\n"
     ]
    }
   ],
   "source": [
    "PUBKEYS = [(10342840547250370454282840290754052390564265157174829726645242904324433774727630591803186632486959590968595230902808369991240437077297674551123187830095873, 5179654005441544601140101875149402241567866059199512232495766031194848985776186595289740052214499657697650832860279375151687044465018028876445070588827777), (6015512135462554031390611730578383462516861987731833360559070749140159284050335604168414434218196369921956160353365713819898567416920672209509202941444097, 2116441415129068001049624780654272734931672052541246678702416144768611225693039503554945326959705314527114860312641379671935648337975482830939466425225421), (6396980904648302374999086102690071222661654639262566535518341836426544747072554109709902085144158785649143907600058913175220229111171441332366557866622977, 1760317994074087854211747561546045780795134924237097786412713825282874589650448491771874326890983429137451463523250670379970999252639812107914977960011738), (9158217300815233129401608406766983222991414185115152402477702381950519098200234724856258589693986849049556254969769863821366592458050807400542885348638721, 6564146847894132872802575925374338252984765675686108816080170162797938388434600448954826704720292576935713424103133182090390089661059813982670332877677256)]\n",
    "ENCS = [4595268033054096192076432659360373235610019564489694608733743330870893803828258295069937060360520598446948290913045781945314108935153236291467160667601985, 3390637292181370684803039833768819598968576813582112632809296088618666221278429695211004046274005776653775480723833818255766663573061866194380012311184611, 5197599582013327040903216369733466147938613487439777125659892779696104407398257678982801768761973934713675657188014051286238194316997970299887749668838196, 5093835186720390391696398671365109925058893544530286148616117890366909889206952477053316867658405460457795493886317792695055944930027477761411273933822112]\n",
    "\n",
    "def solve_bytes(n, s, c):\n",
    "    k = 134\n",
    "    pd = n >> (2*k)\n",
    "    sm = (n >> k) % 2**k\n",
    "    a,b=var('a b')\n",
    "    soln=solve([a+b==sm, a*b==pd],a,b,solution_dict=True)[0]\n",
    "    a,b=soln[a],soln[b]\n",
    "    F = GF((int(a) << k) + 1)\n",
    "    return long_to_bytes((F(c)**a).log(F(s)**a))\n",
    "\n",
    "print(b'ASIS{' + b''.join(solve_bytes(n, s, c) for (n,s),c in zip(PUBKEYS, ENCS)) + b'}')"
   ]
  },
  {
   "cell_type": "markdown",
   "id": "4040a7ba",
   "metadata": {},
   "source": [
    "# Desired curve (19 solves / 194 points)\n",
    "\n",
    "Another DLOG problem, this time on elliptic curves. We pick random numbers to create random curves with different orders, and then solve for m modulo these small orders. If we have enough of these we can CRT them into the flag."
   ]
  },
  {
   "cell_type": "code",
   "execution_count": 7,
   "id": "2037a367",
   "metadata": {},
   "outputs": [
    {
     "name": "stdout",
     "output_type": "stream",
     "text": [
      "[x] Opening connection to 65.21.255.31 on port 10101\n",
      "[x] Opening connection to 65.21.255.31 on port 10101: Trying 65.21.255.31\n",
      "[+] Opening connection to 65.21.255.31 on port 10101: Done\n",
      "0 b'\\x15'\n",
      "1 b'\\x15'\n",
      "2 b'\\x0c\\xa2(}'\n",
      "3 b'\\x1e\\x02\\xce\\xf7H\\xfa\\xd2\\xbd'\n",
      "5 b'\\x12}\\xde\\xcf\\xe4D\\x95\\xb3='\n",
      "6 b'\\x06\\x16\\x80\\x15\\xddzd:S%'\n",
      "7 b'>\\xcd\\xd2\\x85\\xaas\\xbb7\\xe8\\x9e\\x8f\\xc6)@\\xfd'\n",
      "8 b'\\x02j\\x83\\xe3\\xd0\\xf6d\\xd7\\xf3\\xc0&\\xcd!\\xdc\\x97k\"}'\n",
      "9 b'=\\xb4\\xab\\x8f\\xab\\xc8\\xb7vu\\xc1g/~9(-Hc\\xfd'\n",
      "10 b'\\x14\\xcd-4X\\x88\\x83~D\\xde1\\x7f\\x8d\\xf6\\x95\\xe3\\xb4L\\x15{\\xfd'\n",
      "11 b'<\\xdaN+\\x84^B\\xdd\\xd5\\xd5^\\xbfS\\xc5<$\\xa4\\xa0r\\x10\\xbe+\\xe7}'\n",
      "13 b'\\n@M\\xd8\\xd5N\\xd5yB\\x826n\\xffRT0\\xefY8\\xb8\\x97\\x94\\xd4\\xdd}'\n",
      "15 b'ASIS{(e$l6LH_JfsJ:~<}1v&}'\n",
      "[*] Closed connection to 65.21.255.31 port 10101\n"
     ]
    }
   ],
   "source": [
    "with remote('65.21.255.31', 10101) as sh:\n",
    "\n",
    "    fullres, fullmod = 0, 1\n",
    "    for i in range(100):\n",
    "        y1, y2 = 0, i\n",
    "        sh.sendline(f'{y1},{y2}'.encode())\n",
    "        sh.recvuntil(b'q = ')\n",
    "        q = int(sh.recvline(False).decode())\n",
    "        sh.recvuntil(b'G = ')\n",
    "        G = literal_eval(sh.recvline(False).decode())\n",
    "        sh.recvuntil(b'm * G = ')\n",
    "        mG = literal_eval(sh.recvline(False).decode())\n",
    "\n",
    "        A = (y1**2 - y2**2 - 1337**3 + 31337**3) * inverse(-30000, q) % q\n",
    "        B = (y1**2 - 1337**3 - A * 1337) % q\n",
    "        E = EllipticCurve(GF(q), [A, B])\n",
    "        G, mG = E(G), E(mG)\n",
    "\n",
    "        order = G.order()\n",
    "        small = factor_trial_division(order, 2**24)[-1][0]\n",
    "        mod = order//small\n",
    "\n",
    "        if fullmod % mod:        \n",
    "            res = discrete_log(small * mG, small * G, mod, operation='+')\n",
    "            fullres = crt([res, fullres], [mod, fullmod])\n",
    "            fullmod = lcm(fullmod, mod)\n",
    "            ans = long_to_bytes(fullres)\n",
    "            print(i, ans)\n",
    "\n",
    "            if ans.startswith(b'ASIS{'):\n",
    "                break"
   ]
  },
  {
   "cell_type": "markdown",
   "id": "afc81e38",
   "metadata": {},
   "source": [
    "# Disinvolute (7 solves / 334 points)\n",
    "\n",
    "We are given that $n=pq$ is the product of two strong primes, so that $\\phi(n)=(p-1)(q-1)$ and $\\phi(\\phi(n))=\\frac{1}{2}(p-3)(q-3)$.\n",
    "\n",
    "We are also give $x$ and $y$ whose difference must be some (small) rational multiple of $\\phi(\\phi(n))$.\n",
    "\n",
    "Since $\\phi(\\phi(n))$ is itself very close to $\\frac{n}{2}$, it suffices to find a close fractional approximation for $\\frac{y-x}{n}$, as this fraction will be the exact value of $\\frac{y-x}{2\\phi(\\phi(n))}$."
   ]
  },
  {
   "cell_type": "code",
   "execution_count": 8,
   "id": "1770696e",
   "metadata": {},
   "outputs": [
    {
     "name": "stdout",
     "output_type": "stream",
     "text": [
      "b'ASIS{N3s7Ed_DLP_089823341e928d6d87f0e442245d5a765833b575}'\n"
     ]
    }
   ],
   "source": [
    "# nc 65.21.255.31 12431\n",
    "# \"[E]ncrypted flag!\" followed by \"[F]acts\"\n",
    "encrypted_flag = 9975784787149906288323164651646098511260912073828519292647664009852965262234184239194482160682281323145686338707579539174936246755628548643071554893746685504241081607243937752928103836302171563325369474275285850351695028137059318550341706066897348550197283703914701214491304619762159057557708488116067496023\n",
    "e = 65537\n",
    "n = 122301129813151738377392491471615607403451921920446978132399462013231700303247932396046963166330330308999106828896234659860341431107142674026027085507407270007060612378624808128187949659861784368599129738197645057094023259799463164380656836969753218710369839503614070738774778151618768907933047489434256496397\n",
    "x = 15961741473021265408025444939942314380043994779601209295320494007922051528117546405140453031921145140785269525565658092949546180281292504449417001254937509102338309814130703850654719987691857452127504881941980109074538957138347601037940026820654410798082984137712604541783645835937368954078875779392198915138\n",
    "y = 7644662107689695444086486141738348810380098464495678751586655392689578504981570815843013655350050295187170706046635281483318346295036671632180817944041380146126289013624738076040978223308235099168589334359673704251676133194481665138782135013732603393704853429938024432292112947661999662123373239553942157197715658\n",
    "\n",
    "ratio = (Integer(y-x)/n).n().nearby_rational(max_denominator = 2**64)\n",
    "phi = int(2*n+(y-x)/ratio-6)//3\n",
    "d = pow(e, -1, phi)\n",
    "print(long_to_bytes(pow(encrypted_flag, d, n)))"
   ]
  },
  {
   "cell_type": "markdown",
   "id": "43001cd0",
   "metadata": {},
   "source": [
    "---\n",
    "# The remaining non-crypto challenges\n",
    "\n",
    "\n",
    "## Prepsi (PPC / 90 solves / 58 points)\n",
    "\n",
    "If we work from the back, we have a list of flags whose bodies contain only incorrect characters. So we eliminate these incorrect characters unless we are left with only one candidate in each position."
   ]
  },
  {
   "cell_type": "code",
   "execution_count": 9,
   "id": "d6ab64d1",
   "metadata": {
    "scrolled": true
   },
   "outputs": [
    {
     "name": "stdout",
     "output_type": "stream",
     "text": [
      "ASIS{Pr!v4t3_5E7_iNTeRS3c710N_p4St_Or_Pr3sEnT}\n"
     ]
    }
   ],
   "source": [
    "allstr = string.printable[:62] + '!?@-_{|}'\n",
    "result = [set(allstr) for _ in range(40)]\n",
    "for line in open('output.txt').readlines()[::-1]:\n",
    "    for i in range(40):\n",
    "        result[i].discard(line[5+i])\n",
    "    if all(len(r) == 1 for r in result):\n",
    "        print('ASIS{' + ''.join(min(r) for r in result) + '}')\n",
    "        break"
   ]
  },
  {
   "cell_type": "markdown",
   "id": "17955d7a",
   "metadata": {},
   "source": [
    "## Wormrep (Misc / 80 solves / 63 points)\n",
    "\n",
    "A quick look at the file through a hex editor suggests it might be XORed.\n",
    "\n",
    "![](wormrep_xor.png)\n",
    "\n",
    "We try to XOR it with all 256 values, and one of these does in fact give us a flag."
   ]
  },
  {
   "cell_type": "code",
   "execution_count": 10,
   "id": "2335fe0f",
   "metadata": {},
   "outputs": [
    {
     "name": "stdout",
     "output_type": "stream",
     "text": [
      "b'ASIS{N07_@ll_v!ru535_@r3_AS_8@d_a5_cov!d}'\n"
     ]
    }
   ],
   "source": [
    "bs = open('wormrep.klr.enc1', 'rb').read()\n",
    "for i in range(256):\n",
    "    xored = xor(bs,i)\n",
    "    result = re.search(b'ASIS{.*}', xored)\n",
    "    if result:\n",
    "        print(result.group(0))"
   ]
  },
  {
   "cell_type": "markdown",
   "id": "c87ccf13",
   "metadata": {},
   "source": [
    "## Comopti (Misc / 38 solves / 114 points)\n",
    "\n",
    "As before, we scroll through the file in a hex editor, and quickly find a PGM file beginning with `P2`. If we view this in a text editor we see some comments made up of `0`s and `8`s, which makes up this image:\n",
    "\n",
    "![](comopti_top.png)\n",
    "\n",
    "Whereas if we open the PGM as in image, we get this image:\n",
    "\n",
    "![](comopti_bottom.png)\n",
    "\n",
    "Then we just need to follow the instructions to decrypt the flag."
   ]
  },
  {
   "cell_type": "code",
   "execution_count": 11,
   "id": "eff1b2ca",
   "metadata": {},
   "outputs": [
    {
     "name": "stdout",
     "output_type": "stream",
     "text": [
      "ASIS{pgm_1M4gE_f0Rma7_ManUpL4T!On!}"
     ]
    },
    {
     "data": {
      "text/plain": [
       "0"
      ]
     },
     "execution_count": 11,
     "metadata": {},
     "output_type": "execute_result"
    }
   ],
   "source": [
    "salt = '3b3gOa7RaVHPTmwKfLz'\n",
    "payload = 'U2FsdGVkX18y5s1EWrMZLZCHf0BG5B2hjY9iazGPRGliZkEMIMjRG7dniuNp896aMVp/rUwi1vDc1U/lWdoCWQ=='\n",
    "os.system(f'echo {payload} | openssl aes-256-cbc -pbkdf2 -a -d -salt -k {salt}')"
   ]
  }
 ],
 "metadata": {
  "kernelspec": {
   "display_name": "Python 3 (ipykernel)",
   "language": "python",
   "name": "python3"
  },
  "language_info": {
   "codemirror_mode": {
    "name": "ipython",
    "version": 3
   },
   "file_extension": ".py",
   "mimetype": "text/x-python",
   "name": "python",
   "nbconvert_exporter": "python",
   "pygments_lexer": "ipython3",
   "version": "3.10.6"
  }
 },
 "nbformat": 4,
 "nbformat_minor": 5
}
